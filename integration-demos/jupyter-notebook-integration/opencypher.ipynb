{
 "cells": [
  {
   "cell_type": "markdown",
   "metadata": {},
   "source": [
    "# Query PuppyGraph in Jupyter Notebook using openCypher\n",
    "\n",
    "## Start PuppyGraph\n",
    "\n",
    "Run the command below to start a PuppyGraph Docker container. This command will also download the PuppyGraph image if it hasn't been downloaded previously.\n",
    "```bash\n",
    "docker run -p 8081:8081 -p 8182:8182 -p 7687:7687 -d --name puppy --rm --pull=always puppygraph/puppygraph:stable\n",
    "```\n",
    "\n",
    "## Start Jupyter Notebook\n",
    "\n",
    "Run the following command to start Jupyter Notebook server.\n",
    "```bash\n",
    "jupyter notebook\n",
    "```\n",
    "\n",
    "## Install [Neo4j Python driver](https://pypi.org/project/neo4j/)\n",
    "```bash\n",
    "pip install gremlinpython\n",
    "```\n",
    "- See the [documents](https://neo4j.com/docs/api/python-driver/current/) for more information.\n",
    "- Play with the following examples."
   ]
  },
  {
   "cell_type": "code",
   "execution_count": 1,
   "metadata": {},
   "outputs": [],
   "source": [
    "from neo4j import GraphDatabase\n",
    "\n",
    "# Initialize connection to the PuppyGraph.\n",
    "uri = \"bolt://localhost:7687\"\n",
    "username = \"puppygraph\"\n",
    "password = \"puppygraph123\"\n",
    "driver = GraphDatabase.driver(uri, auth=(username, password))\n",
    "session = driver.session()"
   ]
  },
  {
   "cell_type": "code",
   "execution_count": 2,
   "metadata": {},
   "outputs": [
    {
     "name": "stdout",
     "output_type": "stream",
     "text": [
      "All nodes in the graph:\n",
      "{'id': 'person[v1]'}\n",
      "{'id': 'person[v2]'}\n",
      "{'id': 'person[v4]'}\n",
      "{'id': 'person[v6]'}\n",
      "{'id': 'software[v3]'}\n",
      "{'id': 'software[v5]'}\n"
     ]
    }
   ],
   "source": [
    "# Get all nodes from the graph.\n",
    "def all_vertices(driver):\n",
    "    query = \"MATCH (n) RETURN n\"\n",
    "    records, _, _ = driver.execute_query(query)\n",
    "    print(\"All nodes in the graph:\")\n",
    "    for record in records:\n",
    "        node = record[\"n\"]\n",
    "        print({\n",
    "            \"id\": node.element_id,\n",
    "        })\n",
    "\n",
    "all_vertices(driver)"
   ]
  },
  {
   "cell_type": "code",
   "execution_count": 3,
   "metadata": {},
   "outputs": [
    {
     "name": "stdout",
     "output_type": "stream",
     "text": [
      "josh\n",
      "vadas\n"
     ]
    }
   ],
   "source": [
    "# Retrieve the names of friends of a certain person given their name.\n",
    "def print_friends(driver, name):\n",
    "    query = \"\"\"\n",
    "        MATCH (a:person)-[:knows]->(friend) WHERE a.name = $name\n",
    "        RETURN friend.name ORDER BY friend.name\n",
    "    \"\"\"\n",
    "    records, _, _ = driver.execute_query(query, name=name)\n",
    "    for record in records:\n",
    "        print(record[\"friend.name\"])\n",
    "\n",
    "print_friends(driver, \"marko\")"
   ]
  }
 ],
 "metadata": {
  "kernelspec": {
   "display_name": "Python 3 (ipykernel)",
   "language": "python",
   "name": "python3"
  },
  "language_info": {
   "codemirror_mode": {
    "name": "ipython",
    "version": 3
   },
   "file_extension": ".py",
   "mimetype": "text/x-python",
   "name": "python",
   "nbconvert_exporter": "python",
   "pygments_lexer": "ipython3",
   "version": "3.12.3"
  }
 },
 "nbformat": 4,
 "nbformat_minor": 4
}
