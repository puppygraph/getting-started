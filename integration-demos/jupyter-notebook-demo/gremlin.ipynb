{
 "cells": [
  {
   "cell_type": "markdown",
   "metadata": {},
   "source": [
    "# Query PuppyGraph in Jupyter Notebook using Gremlin\n",
    "\n",
    "## Start PuppyGraph\n",
    "\n",
    "Run the command below to start a PuppyGraph Docker container. This command will also download the PuppyGraph image if it hasn't been downloaded previously.\n",
    "```bash\n",
    "docker run -p 8081:8081 -p 8182:8182 -p 7687:7687 -d --name puppy --rm --pull=always puppygraph/puppygraph:stable\n",
    "```\n",
    "\n",
    "## Start Jupyter Notebook\n",
    "\n",
    "Run the following command to start Jupyter Notebook server.\n",
    "```bash\n",
    "jupyter notebook\n",
    "```\n",
    "\n",
    "## Install [Gremlin-Python](https://pypi.org/project/gremlinpython/)\n",
    "```bash\n",
    "pip install gremlinpython\n",
    "```\n",
    "- See the [documents](https://tinkerpop.apache.org/docs/3.7.3/reference/#gremlin-python) for more information.\n",
    "- Play with the following examples."
   ]
  },
  {
   "cell_type": "code",
   "execution_count": 1,
   "metadata": {},
   "outputs": [],
   "source": [
    "from gremlin_python.process.anonymous_traversal import traversal\n",
    "from gremlin_python.driver.driver_remote_connection import DriverRemoteConnection\n",
    "from gremlin_python.driver.aiohttp.transport import AiohttpTransport\n",
    "\n",
    "# Establish a Gremlin Server connection to PuppyGraph.\n",
    "# The Gremlin driver needs to integrate with the existing event loop of Jupyter rather than starting a new one.\n",
    "g = traversal().with_remote(\n",
    "    DriverRemoteConnection(url='ws://localhost:8182/gremlin', traversal_source='g', \n",
    "                           username='puppygraph', password='puppygraph123', \n",
    "                           transport_factory=lambda:AiohttpTransport(call_from_event_loop=True)))"
   ]
  },
  {
   "cell_type": "code",
   "execution_count": 2,
   "metadata": {},
   "outputs": [
    {
     "name": "stdout",
     "output_type": "stream",
     "text": [
      "All vertices in the graph:\n",
      "[{'age': 32, 'name': 'josh'}, {'age': 35, 'name': 'peter'}, {'age': 27, 'name': 'vadas'}, {'age': 29, 'name': 'marko'}, {'lang': 'java', 'name': 'lop'}, {'lang': 'java', 'name': 'ripple'}]\n"
     ]
    }
   ],
   "source": [
    "# Get all vertices in the graph.\n",
    "def all_vertices(g):\n",
    "    vertices = g.V().value_map().to_list()\n",
    "    print(\"All vertices in the graph:\")\n",
    "    print(vertices)\n",
    "\n",
    "all_vertices(g)"
   ]
  },
  {
   "cell_type": "code",
   "execution_count": 3,
   "metadata": {},
   "outputs": [],
   "source": [
    "# The following imports enable most common Gremlin functions.\n",
    "from gremlin_python import statics\n",
    "from gremlin_python.process.anonymous_traversal import traversal\n",
    "from gremlin_python.process.graph_traversal import __\n",
    "from gremlin_python.process.strategies import *\n",
    "from gremlin_python.driver.driver_remote_connection import DriverRemoteConnection\n",
    "from gremlin_python.process.traversal import T\n",
    "from gremlin_python.process.traversal import Order\n",
    "from gremlin_python.process.traversal import Cardinality\n",
    "from gremlin_python.process.traversal import CardinalityValue\n",
    "from gremlin_python.process.traversal import Column\n",
    "from gremlin_python.process.traversal import Direction\n",
    "from gremlin_python.process.traversal import Operator\n",
    "from gremlin_python.process.traversal import P\n",
    "from gremlin_python.process.traversal import TextP\n",
    "from gremlin_python.process.traversal import Pop\n",
    "from gremlin_python.process.traversal import Scope\n",
    "from gremlin_python.process.traversal import Barrier\n",
    "from gremlin_python.process.traversal import Bindings\n",
    "from gremlin_python.process.traversal import WithOptions"
   ]
  },
  {
   "cell_type": "code",
   "execution_count": 4,
   "metadata": {},
   "outputs": [
    {
     "data": {
      "text/plain": [
       "[v[person[v6]], v[person[v4]]]"
      ]
     },
     "execution_count": 4,
     "metadata": {},
     "output_type": "execute_result"
    }
   ],
   "source": [
    "g.V().has_label('person').has('age',P.gt(30)).order().by('age',Order.desc).to_list()"
   ]
  },
  {
   "cell_type": "code",
   "execution_count": 5,
   "metadata": {},
   "outputs": [
    {
     "data": {
      "text/plain": [
       "[['ripple', 'lop']]"
      ]
     },
     "execution_count": 5,
     "metadata": {},
     "output_type": "execute_result"
    }
   ],
   "source": [
    "g.V().repeat(__.out()).times(2).name.fold().to_list()"
   ]
  },
  {
   "cell_type": "code",
   "execution_count": 6,
   "metadata": {},
   "outputs": [],
   "source": [
    "# Importing Gremlin-Python's statics allows omitting class prefixes.\n",
    "# Statics also includes all the __-methods, enabling anonymous traversals like __.out() to be expressed simply as out().\n",
    "statics.load_statics(globals())"
   ]
  },
  {
   "cell_type": "code",
   "execution_count": 7,
   "metadata": {},
   "outputs": [
    {
     "data": {
      "text/plain": [
       "[v[person[v6]], v[person[v4]]]"
      ]
     },
     "execution_count": 7,
     "metadata": {},
     "output_type": "execute_result"
    }
   ],
   "source": [
    "g.V().has_label('person').has('age',gt(30)).order().by('age',desc).to_list()"
   ]
  },
  {
   "cell_type": "code",
   "execution_count": 8,
   "metadata": {},
   "outputs": [
    {
     "data": {
      "text/plain": [
       "[['ripple', 'lop']]"
      ]
     },
     "execution_count": 8,
     "metadata": {},
     "output_type": "execute_result"
    }
   ],
   "source": [
    "g.V().repeat(out()).times(2).name.fold().to_list()"
   ]
  },
  {
   "cell_type": "code",
   "execution_count": 9,
   "metadata": {},
   "outputs": [
    {
     "data": {
      "text/plain": [
       "[v[person[v2]], v[software[v3]]]"
      ]
     },
     "execution_count": 9,
     "metadata": {},
     "output_type": "execute_result"
    }
   ],
   "source": [
    "# Use syntactic sugar in python\n",
    "g.V().both()[1:3].to_list()"
   ]
  },
  {
   "cell_type": "code",
   "execution_count": 10,
   "metadata": {},
   "outputs": [
    {
     "data": {
      "text/plain": [
       "['vadas',\n",
       " 'josh',\n",
       " 'josh',\n",
       " 'josh',\n",
       " 'lop',\n",
       " 'lop',\n",
       " 'lop',\n",
       " 'ripple',\n",
       " 'marko',\n",
       " 'marko',\n",
       " 'marko',\n",
       " 'peter']"
      ]
     },
     "execution_count": 10,
     "metadata": {},
     "output_type": "execute_result"
    }
   ],
   "source": [
    "# Use syntactic sugar in python\n",
    "g.V().both().name.to_list()"
   ]
  }
 ],
 "metadata": {
  "kernelspec": {
   "display_name": "Python 3 (ipykernel)",
   "language": "python",
   "name": "python3"
  },
  "language_info": {
   "codemirror_mode": {
    "name": "ipython",
    "version": 3
   },
   "file_extension": ".py",
   "mimetype": "text/x-python",
   "name": "python",
   "nbconvert_exporter": "python",
   "pygments_lexer": "ipython3",
   "version": "3.12.3"
  }
 },
 "nbformat": 4,
 "nbformat_minor": 4
}
